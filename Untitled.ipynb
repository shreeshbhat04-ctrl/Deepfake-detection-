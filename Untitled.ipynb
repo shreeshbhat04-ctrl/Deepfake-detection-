{
 "cells": [
  {
   "cell_type": "code",
   "execution_count": null,
   "id": "a3bec247-bf68-4a1f-b3cb-8b9d2f152040",
   "metadata": {},
   "outputs": [],
   "source": []
  }
 ],
 "metadata": {
  "kernelspec": {
   "display_name": "",
   "name": ""
  },
  "language_info": {
   "name": ""
  }
 },
 "nbformat": 4,
 "nbformat_minor": 5
}
